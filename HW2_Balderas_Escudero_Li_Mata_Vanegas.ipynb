{
 "cells": [
  {
   "cell_type": "code",
   "execution_count": null,
   "metadata": {
    "collapsed": false
   },
   "outputs": [],
   "source": [
    "from pandas import Series, DataFrame\n",
    "import pandas as pd\n",
    "import re\n",
    "\n",
    "df = pd.read_csv('NYC_Restaurants.csv',dtype=unicode)"
   ]
  },
  {
   "cell_type": "markdown",
   "metadata": {
    "collapsed": true
   },
   "source": [
    "Q1 Create a unique name for each restaurant"
   ]
  },
  {
   "cell_type": "markdown",
   "metadata": {
    "collapsed": true
   },
   "source": [
    "Approach: added a new column that concatenated the DBA, BUILDING, STREET,\n",
    "Columns with spaces in between"
   ]
  },
  {
   "cell_type": "code",
   "execution_count": null,
   "metadata": {
    "collapsed": false
   },
   "outputs": [],
   "source": [
    "df['RESTAURANT']=df['DBA']+\" \"+df['BUILDING']+\" \"+df['STREET']+\" \"+df[\"ZIPCODE\"]\n",
    "print df['RESTAURANT'][:10]"
   ]
  },
  {
   "cell_type": "markdown",
   "metadata": {
    "collapsed": true
   },
   "source": [
    "Q2 How many restaurants are included in the data?"
   ]
  },
  {
   "cell_type": "markdown",
   "metadata": {
    "collapsed": true
   },
   "source": [
    "Approach: created a unique restaurants dataframe and deleted all duplicates\\\n",
    "in the RESTAURANT column\n",
    "used the len function to find the number of records in the uniqueResturants\\\n",
    "data frame"
   ]
  },
  {
   "cell_type": "code",
   "execution_count": null,
   "metadata": {
    "collapsed": false
   },
   "outputs": [],
   "source": [
    "uniqueRestaurants = df.drop_duplicates(subset='RESTAURANT')\n",
    "print \"Number of restaurants:\", len(uniqueRestaurants)"
   ]
  },
  {
   "cell_type": "markdown",
   "metadata": {
    "collapsed": true
   },
   "source": [
    "Q3 How many chains are there?"
   ]
  },
  {
   "cell_type": "markdown",
   "metadata": {
    "collapsed": true
   },
   "source": [
    "Approach: created a data frame with a value count of the 'DBA' column\n",
    "used the unique restaurants dataframe so that repeat offenders wouldn't be\n",
    "counted twice\n",
    "created a mask for when the value count was greater than or equal to 2\n",
    "applied the mask to the list of unique restaurants\n",
    "found the length (len) of the new dataframe"
   ]
  },
  {
   "cell_type": "code",
   "execution_count": null,
   "metadata": {
    "collapsed": false
   },
   "outputs": [],
   "source": [
    "#create dataframe with the count of each restaurant of a chain\n",
    "numberOfEach = uniqueRestaurants['DBA'].value_counts()\n",
    "#create a mask to find resturants with 2 or more locations (chains)\n",
    "chainMask = (numberOfEach >= 2)\n",
    "chains = numberOfEach[chainMask]\n",
    "\n",
    "print \"Number of chains:\", len(chains)\n"
   ]
  },
  {
   "cell_type": "markdown",
   "metadata": {
    "collapsed": true
   },
   "source": [
    "Q4 Plot a bar graph of the top 20 most popular chains?"
   ]
  },
  {
   "cell_type": "markdown",
   "metadata": {
    "collapsed": true
   },
   "source": [
    "Approach: take the chains data frame and create a bar plot of the \n",
    "top 20 chains, which would be the ones with highest value counts\n",
    "import %pylab inline to show bar plot"
   ]
  },
  {
   "cell_type": "code",
   "execution_count": null,
   "metadata": {
    "collapsed": false
   },
   "outputs": [],
   "source": [
    "%pylab inline\n",
    "top20_chains = chains[:20]\n",
    "top20_chains.plot(kind='bar')\n",
    "print sum(chains)"
   ]
  },
  {
   "cell_type": "markdown",
   "metadata": {
    "collapsed": true
   },
   "source": [
    "Q5 What fraction of all restaurants are chains?"
   ]
  },
  {
   "cell_type": "markdown",
   "metadata": {
    "collapsed": true
   },
   "source": [
    "Approach: we need the total number of restaurants and the total \n",
    "number of restaurant in chains  restaurants in chains / \n",
    "total number of restaurants"
   ]
  },
  {
   "cell_type": "code",
   "execution_count": null,
   "metadata": {
    "collapsed": false
   },
   "outputs": [],
   "source": [
    "percentage_of_chains = float(sum(chains))/float(len(uniqueRestaurants))\n",
    "print 'Fraction of restaurants that are chains '+ \"%.2f\" % float(percentage_of_chains *100) + \"%\""
   ]
  },
  {
   "cell_type": "markdown",
   "metadata": {
    "collapsed": true
   },
   "source": [
    "Q6 Plot all non-chain restaurants in each borrough"
   ]
  },
  {
   "cell_type": "markdown",
   "metadata": {},
   "source": [
    "Approach: First we created a series that included only borroughs and unique restaurants,we derived this series from the unique restaurant dataframe from problem 2. Then I filtered out all the missing borrough values by dropping them. I then created a mask and applied it to the dataframe that we removed the missing values from. So at this point only non_chain restaurants should show. Once applied, the dataframe became a series, so i converted it back to a series so that it could be merged. Then i used value counts on the boroughs and plotted it "
   ]
  },
  {
   "cell_type": "code",
   "execution_count": null,
   "metadata": {
    "collapsed": false,
    "scrolled": true
   },
   "outputs": [],
   "source": [
    "#building series of only borroughs and restaurants\n",
    "rest_borrough = uniqueRestaurants[['DBA','BORO']]\n",
    "\n",
    "#non chain mask\n",
    "non_chainMask = (numberOfEach< 2)\n",
    "non_chain = numberOfEach[non_chainMask]\n",
    "\n",
    "non_chain_df = DataFrame(non_chain.index) #this creates a dataframe from the series that \n",
    "                                          #we applied the mask to, that way we can merge them\n",
    "non_chain_df.columns = ['Restaurants']#name a column in the new dataframe\n",
    "\n",
    "\n",
    "#here I merge the datframes and apply the value_counts to it\n",
    "merged_df = pd.merge(non_chain_df, rest_borrough,left_on='Restaurants' , right_on='DBA', suffixes =['_non_chain','_rest'])\n",
    "merged_df_nulls = merged_df.replace(\"Missing\",NaN).dropna(how = \"any\")\n",
    "answerQ7 = DataFrame(merged_df_nulls[\"BORO\"].value_counts())\n",
    "answerQ7.plot(kind='bar')"
   ]
  },
  {
   "cell_type": "markdown",
   "metadata": {},
   "source": [
    "Q7"
   ]
  },
  {
   "cell_type": "markdown",
   "metadata": {},
   "source": [
    "Approach: We used the uniqueRestaurants DF and removed all the missing info. We them used value counts and this gave us the number of restaurants in each borrough. I then converted that value_counts output into a DF so that I could combine it with other info. THen I added the number of nonchain restaurants to this df, i used the values from Q7. I then divided to receive a percentage and then plotted that."
   ]
  },
  {
   "cell_type": "code",
   "execution_count": null,
   "metadata": {
    "collapsed": false
   },
   "outputs": [],
   "source": [
    "#create a df that counts all restaurants per borrough and elimnates missing info\\n\",\n",
    "pre_lim = uniqueRestaurants[['BORO','DBA']].replace(\"Missing\",NaN).dropna(how = \"any\")\n",
    "all_rest_boro = pre_lim['BORO'].value_counts() #this is shows the total number of restaurants in each borrough\"\n",
    "all_rest_boro_df = DataFrame(all_rest_boro)\n",
    "all_rest_boro_df.columns = ['Total in Borrough']\n",
    "all_rest_boro_df['NonChain in Borrough'] = answerQ7[\"BORO\"]\n",
    "all_rest_boro_df['Percent'] = all_rest_boro_df['NonChain in Borrough']/all_rest_boro_df['Total in Borrough']\n",
    "all_rest_boro_df['Percent'].plot(kind = \"bar\")"
   ]
  },
  {
   "cell_type": "markdown",
   "metadata": {
    "collapsed": false
   },
   "source": [
    "Q8 Plot the popularity of cuisines\n",
    "\n",
    "Approach: Collect all cuisine descriptions, see the frequency of these cuisines by collecting the top 20, then make histogram of the top 20 cuisines "
   ]
  },
  {
   "cell_type": "code",
   "execution_count": null,
   "metadata": {
    "collapsed": false
   },
   "outputs": [],
   "source": [
    "#get the cuisine types \n",
    "df['CUISINE DESCRIPTION']\n",
    "\n",
    "#see frequency of cuisines \n",
    "vc = df['CUISINE DESCRIPTION'].value_counts()\n",
    "vc[:20]\n",
    "\n",
    "#plot histogram of top 20 cuisines \n",
    "top_20_vc = vc[:20]\n",
    "top_20_vc.plot(kind='bar')"
   ]
  },
  {
   "cell_type": "code",
   "execution_count": null,
   "metadata": {
    "collapsed": true
   },
   "outputs": [],
   "source": [
    "Q9"
   ]
  },
  {
   "cell_type": "markdown",
   "metadata": {
    "collapsed": true
   },
   "source": [
    "Approach "
   ]
  },
  {
   "cell_type": "code",
   "execution_count": null,
   "metadata": {
    "collapsed": false
   },
   "outputs": [],
   "source": [
    "#make dataframe with resturant and cuisine description\n",
    "\n",
    "restaurant_cuisine_df = df[['RESTAURANT', 'CUISINE DESCRIPTION']]\n",
    "\n",
    "#print restaurant_cuisine_df\n",
    "\n",
    "\n",
    "#find restaurants that are violators\n",
    "#mask_restaurant_cuisine_nonviolators = df['VIOLATION CODE'].isnull()\n",
    "\n",
    "#print mask_restaurant_cuisine_nonviolators\n",
    "\n",
    "#combine mask with datafram\n",
    "#mask = (restaurant_cuisine_df & mask_restaurant_cuisine_nonviolators)\n",
    "\n",
    "mask = df['VIOLATION CODE'].isnull()\n",
    "\n",
    "#apply the mask\n",
    "mask_nonviolators = df[mask]\n",
    "\n",
    "count_nonviolators = mask_nonviolators['DBA'].value_counts()\n",
    "\n",
    "print(count_nonviolators[:20])\n",
    "\n",
    "#plot histogram of top 20 cuisines \n"
   ]
  },
  {
   "cell_type": "markdown",
   "metadata": {
    "collapsed": true
   },
   "source": [
    "Q10: What Cuisines tend to be the cleanest?"
   ]
  },
  {
   "cell_type": "markdown",
   "metadata": {},
   "source": [
    "Approach"
   ]
  },
  {
   "cell_type": "markdown",
   "metadata": {
    "collapsed": true
   },
   "source": [
    "Q11 What are the most common violations in each borough?"
   ]
  },
  {
   "cell_type": "markdown",
   "metadata": {
    "collapsed": true
   },
   "source": [
    "APPROACH: I first assigned a dummy column to each inspection for counting purpose.\n",
    "Then I cleared out the data by substituting all missing BORO with NaN. Finally use pivot table to organize \n",
    "#the number of each type of violations by borough and listed the top violation with the function .idxmax()."
   ]
  },
  {
   "cell_type": "code",
   "execution_count": null,
   "metadata": {
    "collapsed": false
   },
   "outputs": [],
   "source": [
    "df['count'] = 1 # dumpy value\n",
    "    \n",
    "\n",
    "\n",
    "vioBoro = df[['VIOLATION DESCRIPTION','BORO','count']]\n",
    "\n",
    "#most = vioBoro['VIOLATION DESCRIPTION'].value_counts()\n",
    "#print most[:5]\n",
    "\n",
    "mask_missing = (vioBoro['BORO'] == 'Missing')\n",
    "vioBoro.ix[mask_missing, 'BORO'] = np.nan # This sets the value to NaN\n",
    "\n",
    "violations = pd.pivot_table(vioBoro,\n",
    "                         index='VIOLATION DESCRIPTION',\n",
    "                         columns='BORO',\n",
    "                         values='count',\n",
    "                         aggfunc=sum, #what do I do with the data if there is a collision\n",
    "                         fill_value=0) #fill non-existed violation with 0.\n",
    "fig, (ax1, ax2, ax3, ax4, ax5) = subplots(nrows=5, ncols=1, sharex=True,sharey=True, figsize\\\n",
    "                                    =(8,12))\n",
    "violations['BRONX'].plot(ax=ax1)\n",
    "violations['BROOKLYN'].plot(ax=ax2)\n",
    "violations['MANHATTAN'].plot(ax=ax3)\n",
    "violations['QUEENS'].plot(ax=ax4)\n",
    "violations['STATEN ISLAND'].plot(ax=ax5)\n",
    "\n",
    "topVio = violations.idxmax()\n",
    "\n",
    "\n",
    "print topVio"
   ]
  },
  {
   "cell_type": "code",
   "execution_count": null,
   "metadata": {
    "collapsed": false
   },
   "outputs": [],
   "source": [
    "#Q12 What are the most common violations per borough, \n",
    "#after normalizing for the relative abundance of each violation?\n",
    "# Step 1: Get overall frequencies\n",
    "frequency = df['VIOLATION CODE'].dropna().value_counts()\n",
    "\n",
    "#Step 2: Create a new column that records total frquency\n",
    "\n",
    "totalFreq = DataFrame(frequency[df['VIOL CODE'].dropna()])\n",
    "print totalFreq\n",
    "\n",
    "df['normalize'] = df['count']/totalFreq[\"VIOL CODE\"]\n",
    "   \n",
    "#Create a pivot table with the percentage column and the Boro column\n",
    "norm_vioBoro = df[['VIOLATION DESCRIPTION','BORO','normalize']]\n",
    "norm_violations = pd.pivot_table(norm_vioBoro,\n",
    "                         index='VIOLATION DESCRIPTION',\n",
    "                         columns='BORO',\n",
    "                         values='normalize',\n",
    "                         aggfunc=sum, #what do I do with the data if there is a collision\n",
    "                         fill_value=0) #fill non-existed violation with 0.\n",
    "topVio = norm_violations.idxmax()\n",
    "\n",
    "\n"
   ]
  },
  {
   "cell_type": "code",
   "execution_count": null,
   "metadata": {
    "collapsed": true
   },
   "outputs": [],
   "source": []
  }
 ],
 "metadata": {
  "kernelspec": {
   "display_name": "Python 2",
   "language": "python",
   "name": "python2"
  },
  "language_info": {
   "codemirror_mode": {
    "name": "ipython",
    "version": 2
   },
   "file_extension": ".py",
   "mimetype": "text/x-python",
   "name": "python",
   "nbconvert_exporter": "python",
   "pygments_lexer": "ipython2",
   "version": "2.7.11"
  }
 },
 "nbformat": 4,
 "nbformat_minor": 0
}
