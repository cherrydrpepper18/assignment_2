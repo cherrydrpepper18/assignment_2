{
 "cells": [
  {
   "cell_type": "code",
   "execution_count": 3,
   "metadata": {
    "collapsed": false
   },
   "outputs": [],
   "source": [
    "from pandas import Series, DataFrame\n",
    "import pandas as pd\n",
    "import re\n",
    "\n",
    "df = pd.read_csv('NYC_Restaurants.csv',dtype=unicode)"
   ]
  },
  {
   "cell_type": "code",
   "execution_count": 35,
   "metadata": {
    "collapsed": true
   },
   "outputs": [],
   "source": [
    "#Q1 Create a unique name for each restaurant"
   ]
  },
  {
   "cell_type": "code",
   "execution_count": 36,
   "metadata": {
    "collapsed": true
   },
   "outputs": [],
   "source": [
    "#approach: added a new column that concatenated the DBA, BUILDING, STREET,\\\n",
    "#columns with spaces in between"
   ]
  },
  {
   "cell_type": "code",
   "execution_count": 4,
   "metadata": {
    "collapsed": false
   },
   "outputs": [
    {
     "name": "stdout",
     "output_type": "stream",
     "text": [
      "0                    WENDY'S 469 FLATBUSH AVENUE 11225\n",
      "1                    WENDY'S 469 FLATBUSH AVENUE 11225\n",
      "2                    WENDY'S 469 FLATBUSH AVENUE 11225\n",
      "3                    WENDY'S 469 FLATBUSH AVENUE 11225\n",
      "4                    WENDY'S 469 FLATBUSH AVENUE 11225\n",
      "5               TOV KOSHER KITCHEN 97-22 63 ROAD 11374\n",
      "6               TOV KOSHER KITCHEN 97-22 63 ROAD 11374\n",
      "7               TOV KOSHER KITCHEN 97-22 63 ROAD 11374\n",
      "8               TOV KOSHER KITCHEN 97-22 63 ROAD 11374\n",
      "9    BRUNOS ON THE BOULEVARD 8825 ASTORIA BOULEVARD...\n",
      "Name: RESTAURANT, dtype: object\n"
     ]
    }
   ],
   "source": [
    "df['RESTAURANT']=df['DBA']+\" \"+df['BUILDING']+\" \"+df['STREET']+\" \"+df[\"ZIPCODE\"]\n",
    "print df['RESTAURANT'][:10]"
   ]
  },
  {
   "cell_type": "code",
   "execution_count": 38,
   "metadata": {
    "collapsed": true
   },
   "outputs": [],
   "source": [
    "#Q2 How many restaurants are included in the data?"
   ]
  },
  {
   "cell_type": "code",
   "execution_count": 39,
   "metadata": {
    "collapsed": true
   },
   "outputs": [],
   "source": [
    "#approach: created a unique restaurants dataframe and deleted all duplicates\\\n",
    "#in the RESTAURANT column\n",
    "#used the len function to find the number of records in the uniqueResturants\\\n",
    "#data frame"
   ]
  },
  {
   "cell_type": "code",
   "execution_count": 52,
   "metadata": {
    "collapsed": false
   },
   "outputs": [
    {
     "name": "stdout",
     "output_type": "stream",
     "text": [
      "Number of restaurants: 10114\n"
     ]
    }
   ],
   "source": [
    "uniqueRestaurants = df.drop_duplicates(subset='RESTAURANT')\n",
    "print \"Number of restaurants:\", len(uniqueRestaurants)"
   ]
  },
  {
   "cell_type": "code",
   "execution_count": 41,
   "metadata": {
    "collapsed": true
   },
   "outputs": [],
   "source": [
    "#Q3 How many chains are there?"
   ]
  },
  {
   "cell_type": "code",
   "execution_count": 42,
   "metadata": {
    "collapsed": true
   },
   "outputs": [],
   "source": [
    "#approach: created a data frame with a value count of the 'DBA' column\n",
    "#used the unique restaurants dataframe so that repeat offenders wouldn't be \\\n",
    "#counted twice\n",
    "#created a mask for when the value count was greater than or equal to 2\n",
    "#applied the mask to the list of unique restaurants\n",
    "#found the length (len) of the new dataframe"
   ]
  },
  {
   "cell_type": "code",
   "execution_count": 22,
   "metadata": {
    "collapsed": false
   },
   "outputs": [
    {
     "name": "stdout",
     "output_type": "stream",
     "text": [
      "Number of chains: 368\n"
     ]
    }
   ],
   "source": [
    "#create dataframe with the count of each restaurant of a chain\n",
    "numberOfEach = uniqueRestaurants['DBA'].value_counts()\n",
    "#create a mask to find resturants with 2 or more locations (chains)\n",
    "chainMask = (numberOfEach >= 2)\n",
    "chains = numberOfEach[chainMask]\n",
    "print \"Number of chains:\", len(chains)"
   ]
  },
  {
   "cell_type": "code",
   "execution_count": null,
   "metadata": {
    "collapsed": true
   },
   "outputs": [],
   "source": [
    "#Q4 Plot a bar graph of the top 20 most popular chains?"
   ]
  },
  {
   "cell_type": "code",
   "execution_count": 23,
   "metadata": {
    "collapsed": true
   },
   "outputs": [],
   "source": [
    "#approach: take the chains data frame and create a bar plot of the \n",
    "# top 20 chains, which would be the ones with highest value counts\n",
    "#import %pylab inline to show bar plot"
   ]
  },
  {
   "cell_type": "code",
   "execution_count": 64,
   "metadata": {
    "collapsed": false
   },
   "outputs": [
    {
     "name": "stdout",
     "output_type": "stream",
     "text": [
      "Populating the interactive namespace from numpy and matplotlib\n",
      "1666\n"
     ]
    }
   ],
   "source": [
    "%pylab inline\n",
    "top20_chains = chains[:20]\n",
    "#top20_chains.plot(kind='bar')\n",
    "print sum(chains)"
   ]
  },
  {
   "cell_type": "code",
   "execution_count": 24,
   "metadata": {
    "collapsed": true
   },
   "outputs": [],
   "source": [
    "#Q5 What fraction of all restaurants are chains?"
   ]
  },
  {
   "cell_type": "code",
   "execution_count": 63,
   "metadata": {
    "collapsed": true
   },
   "outputs": [],
   "source": [
    "#approach: we need the total number of restaurants and the total \n",
    "#number of restaurant in chains  restaurants in chains / \n",
    "#total number of restaurants"
   ]
  },
  {
   "cell_type": "code",
   "execution_count": 66,
   "metadata": {
    "collapsed": false
   },
   "outputs": [
    {
     "name": "stdout",
     "output_type": "stream",
     "text": [
      "Fraction of restaurants that are chains 16.47%\n"
     ]
    }
   ],
   "source": [
    "percentage_of_chains = float(sum(chains))/float(len(uniqueRestaurants))\n",
    "print 'Fraction of restaurants that are chains '+ \"%.2f\" % float(percentage_of_chains *100) + \"%\""
   ]
  },
  {
   "cell_type": "code",
   "execution_count": null,
   "metadata": {
    "collapsed": true
   },
   "outputs": [],
   "source": []
  }
 ],
 "metadata": {
  "kernelspec": {
   "display_name": "Python 2",
   "language": "python",
   "name": "python2"
  },
  "language_info": {
   "codemirror_mode": {
    "name": "ipython",
    "version": 2
   },
   "file_extension": ".py",
   "mimetype": "text/x-python",
   "name": "python",
   "nbconvert_exporter": "python",
   "pygments_lexer": "ipython2",
   "version": "2.7.10"
  }
 },
 "nbformat": 4,
 "nbformat_minor": 0
}
