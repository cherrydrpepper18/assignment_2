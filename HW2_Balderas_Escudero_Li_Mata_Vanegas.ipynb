{
 "cells": [
  {
   "cell_type": "code",
   "execution_count": 28,
   "metadata": {
    "collapsed": false
   },
   "outputs": [],
   "source": [
    "from pandas import Series, DataFrame\n",
    "import pandas as pd\n",
    "import re\n",
    "\n",
    "df = pd.read_csv('NYC_Restaurants.csv',dtype=unicode)"
   ]
  },
  {
   "cell_type": "markdown",
   "metadata": {
    "collapsed": true
   },
   "source": [
    "Q1 Create a unique name for each restaurant"
   ]
  },
  {
   "cell_type": "markdown",
   "metadata": {
    "collapsed": true
   },
   "source": [
    "Approach: added a new column that concatenated the DBA, BUILDING, STREET,\n",
    "Columns with spaces in between"
   ]
  },
  {
   "cell_type": "code",
   "execution_count": 29,
   "metadata": {
    "collapsed": false
   },
   "outputs": [
    {
     "name": "stdout",
     "output_type": "stream",
     "text": [
      "0                    WENDY'S 469 FLATBUSH AVENUE 11225\n",
      "1                    WENDY'S 469 FLATBUSH AVENUE 11225\n",
      "2                    WENDY'S 469 FLATBUSH AVENUE 11225\n",
      "3                    WENDY'S 469 FLATBUSH AVENUE 11225\n",
      "4                    WENDY'S 469 FLATBUSH AVENUE 11225\n",
      "5               TOV KOSHER KITCHEN 97-22 63 ROAD 11374\n",
      "6               TOV KOSHER KITCHEN 97-22 63 ROAD 11374\n",
      "7               TOV KOSHER KITCHEN 97-22 63 ROAD 11374\n",
      "8               TOV KOSHER KITCHEN 97-22 63 ROAD 11374\n",
      "9    BRUNOS ON THE BOULEVARD 8825 ASTORIA BOULEVARD...\n",
      "Name: RESTAURANT, dtype: object\n"
     ]
    }
   ],
   "source": [
    "df['RESTAURANT']=df['DBA']+\" \"+df['BUILDING']+\" \"+df['STREET']+\" \"+df[\"ZIPCODE\"]\n",
    "print df['RESTAURANT'][:10]"
   ]
  },
  {
   "cell_type": "markdown",
   "metadata": {
    "collapsed": true
   },
   "source": [
    "Q2 How many restaurants are included in the data?"
   ]
  },
  {
   "cell_type": "markdown",
   "metadata": {
    "collapsed": true
   },
   "source": [
    "Approach: created a unique restaurants dataframe and deleted all duplicates\\\n",
    "in the RESTAURANT column\n",
    "used the len function to find the number of records in the uniqueResturants\\\n",
    "data frame"
   ]
  },
  {
   "cell_type": "code",
   "execution_count": 30,
   "metadata": {
    "collapsed": false
   },
   "outputs": [
    {
     "name": "stdout",
     "output_type": "stream",
     "text": [
      "Number of restaurants: 10114\n"
     ]
    }
   ],
   "source": [
    "uniqueRestaurants = df.drop_duplicates(subset='RESTAURANT')\n",
    "print \"Number of restaurants:\", len(uniqueRestaurants)"
   ]
  },
  {
   "cell_type": "markdown",
   "metadata": {
    "collapsed": true
   },
   "source": [
    "Q3 How many chains are there?"
   ]
  },
  {
   "cell_type": "markdown",
   "metadata": {
    "collapsed": true
   },
   "source": [
    "Approach: created a data frame with a value count of the 'DBA' column\n",
    "used the unique restaurants dataframe so that repeat offenders wouldn't be\n",
    "counted twice\n",
    "created a mask for when the value count was greater than or equal to 2\n",
    "applied the mask to the list of unique restaurants\n",
    "found the length (len) of the new dataframe"
   ]
  },
  {
   "cell_type": "code",
   "execution_count": 31,
   "metadata": {
    "collapsed": false
   },
   "outputs": [
    {
     "name": "stdout",
     "output_type": "stream",
     "text": [
      "Number of chains: 368\n"
     ]
    }
   ],
   "source": [
    "#create dataframe with the count of each restaurant of a chain\n",
    "numberOfEach = uniqueRestaurants['DBA'].value_counts()\n",
    "#create a mask to find resturants with 2 or more locations (chains)\n",
    "chainMask = (numberOfEach >= 2)\n",
    "chains = numberOfEach[chainMask]\n",
    "\n",
    "print \"Number of chains:\", len(chains)\n"
   ]
  },
  {
   "cell_type": "markdown",
   "metadata": {
    "collapsed": true
   },
   "source": [
    "Q4 Plot a bar graph of the top 20 most popular chains?"
   ]
  },
  {
   "cell_type": "markdown",
   "metadata": {
    "collapsed": true
   },
   "source": [
    "Approach: take the chains data frame and create a bar plot of the \n",
    "top 20 chains, which would be the ones with highest value counts\n",
    "import %pylab inline to show bar plot"
   ]
  },
  {
   "cell_type": "code",
   "execution_count": 32,
   "metadata": {
    "collapsed": false
   },
   "outputs": [
    {
     "name": "stdout",
     "output_type": "stream",
     "text": [
      "Populating the interactive namespace from numpy and matplotlib\n",
      "1666\n"
     ]
    },
    {
     "data": {
      "image/png": "[encoded data removed]",
      "text/plain": [
       "<matplotlib.figure.Figure at 0x11eaf4190>"
      ]
     },
     "metadata": {},
     "output_type": "display_data"
    }
   ],
   "source": [
    "%pylab inline\n",
    "top20_chains = chains[:20]\n",
    "top20_chains.plot(kind='bar')\n",
    "print sum(chains)"
   ]
  },
  {
   "cell_type": "markdown",
   "metadata": {
    "collapsed": true
   },
   "source": [
    "Q5 What fraction of all restaurants are chains?"
   ]
  },
  {
   "cell_type": "markdown",
   "metadata": {
    "collapsed": true
   },
   "source": [
    "Approach: we need the total number of restaurants and the total \n",
    "number of restaurant in chains  restaurants in chains / \n",
    "total number of restaurants"
   ]
  },
  {
   "cell_type": "code",
   "execution_count": 33,
   "metadata": {
    "collapsed": false
   },
   "outputs": [
    {
     "name": "stdout",
     "output_type": "stream",
     "text": [
      "Fraction of restaurants that are chains 16.47%\n"
     ]
    }
   ],
   "source": [
    "percentage_of_chains = float(sum(chains))/float(len(uniqueRestaurants))\n",
    "print 'Fraction of restaurants that are chains '+ \"%.2f\" % float(percentage_of_chains *100) + \"%\""
   ]
  },
  {
   "cell_type": "markdown",
   "metadata": {
    "collapsed": true
   },
   "source": [
    "Q6 Plot all non-chain restaurants in each borrough"
   ]
  },
  {
   "cell_type": "markdown",
   "metadata": {},
   "source": [
    "Approach: First we created a series that included only borroughs and unique restaurants,we derived this series from the unique restaurant dataframe from problem 2. Then I filtered out all the missing borrough values by dropping them. I then created a mask and applied it to the dataframe that we removed the missing values from. So at this point only non_chain restaurants should show. Once applied, the dataframe became a series, so i converted it back to a series so that it could be merged. Then i used value counts on the boroughs and plotted it "
   ]
  },
  {
   "cell_type": "code",
   "execution_count": null,
   "metadata": {
    "collapsed": false
   },
   "outputs": [
    {
     "data": {
      "text/plain": [
       "<matplotlib.axes._subplots.AxesSubplot at 0x107b92890>"
      ]
     },
     "execution_count": 34,
     "metadata": {},
     "output_type": "execute_result"
    },
    {
     "data": {
      "image/png": "[encoded data removed]",
      "text/plain": [
       "<matplotlib.figure.Figure at 0x107c8a490>"
      ]
     },
     "metadata": {},
     "output_type": "display_data"
    }
   ],
   "source": [
    "#building series of only borroughs and restaurants\n",
    "rest_borrough = uniqueRestaurants[['DBA','BORO']]\n",
    "\n",
    "\n",
    "#null_BORO_series = rest_borrough['BORO'].replace(\"Missing\",\"\")\n",
    "\n",
    "#mergedRestBorough = pd.merge(null_BORO_series, rest_borrough)\n",
    "\n",
    "\n",
    "#drop all missing values\n",
    "#rest_borrough_clean = rest_borrough.dropna(how = \"any\")\n",
    "#rest_borrough_clean\n",
    "\n",
    "#non chain mask\n",
    "non_chainMask = (numberOfEach< 2)\n",
    "non_chain = numberOfEach[non_chainMask]\n",
    "\n",
    "non_chain_df = DataFrame(non_chain.index) #this creates a dataframe from the series that \n",
    "                                          #we applied the mask to, that way we can merge them\n",
    "non_chain_df.columns = ['Restaurants']#name a column in the new dataframe\n",
    "\n",
    "\n",
    "#here I merge the datframes and apply the value_counts to it\n",
    "merged_df = pd.merge(non_chain_df, rest_borrough,left_on='Restaurants' , right_on='DBA', suffixes =['_non_chain','_rest'])\n",
    "\n",
    "merged_df_nulls = merged_df.replace(\"Missing\",\"\")\n",
    "\n",
    "rest_borrough_clean = merged_df_nulls.dropna(how = \"any\")\n",
    "\n",
    "merged_valuecounts = rest_borrough_clean['BORO'].value_counts()\n",
    "merged_valuecounts.plot(kind = \"bar\")\n",
    "\n"
   ]
  },
  {
   "cell_type": "code",
   "execution_count": null,
   "metadata": {
    "collapsed": true
   },
   "outputs": [],
   "source": [
    "Q7 "
   ]
  },
  {
   "cell_type": "code",
   "execution_count": null,
   "metadata": {
    "collapsed": true
   },
   "outputs": [],
   "source": [
    "Approach"
   ]
  },
  {
   "cell_type": "code",
   "execution_count": null,
   "metadata": {
    "collapsed": true
   },
   "outputs": [],
   "source": []
  },
  {
   "cell_type": "markdown",
   "metadata": {
    "collapsed": false
   },
   "source": [
    "Q8 Plot the popularity of cuisines\n",
    "\n",
    "Approach: Collect all cuisine descriptions, see the frequency of these cuisines by collecting the top 20, then make histogram of the top 20 cuisines "
   ]
  },
  {
   "cell_type": "code",
   "execution_count": 36,
   "metadata": {
    "collapsed": false
   },
   "outputs": [
    {
     "data": {
      "text/plain": [
       "<matplotlib.axes._subplots.AxesSubplot at 0x119a39990>"
      ]
     },
     "execution_count": 36,
     "metadata": {},
     "output_type": "execute_result"
    },
    {
     "data": {
      "image/png": "[encoded data removed]",
      "text/plain": [
       "<matplotlib.figure.Figure at 0x1038a7710>"
      ]
     },
     "metadata": {},
     "output_type": "display_data"
    }
   ],
   "source": [
    "\n",
    "\n",
    "#get the cuisine types \n",
    "df['CUISINE DESCRIPTION']\n",
    "\n",
    "#see frequency of cuisines \n",
    "vc = df['CUISINE DESCRIPTION'].value_counts()\n",
    "vc[:20]\n",
    "\n",
    "#plot histogram of top 20 cuisines \n",
    "top_20_vc = vc[:20]\n",
    "top_20_vc.plot(kind='bar')"
   ]
  },
  {
   "cell_type": "code",
   "execution_count": null,
   "metadata": {
    "collapsed": true
   },
   "outputs": [],
   "source": [
    "Q9 "
   ]
  },
  {
   "cell_type": "code",
   "execution_count": null,
   "metadata": {
    "collapsed": true
   },
   "outputs": [],
   "source": [
    "Approach "
   ]
  },
  {
   "cell_type": "markdown",
   "metadata": {
    "collapsed": true
   },
   "source": [
    "Q10: What Cuisines tend to be the cleanest?"
   ]
  },
  {
   "cell_type": "markdown",
   "metadata": {},
   "source": [
    "Approach"
   ]
  },
  {
   "cell_type": "markdown",
   "metadata": {
    "collapsed": true
   },
   "source": [
    "Q9 Plot the cuisines among resturants which do not get cited for violations \n",
    "\n",
    "Approach: "
   ]
  },
  {
   "cell_type": "code",
   "execution_count": null,
   "metadata": {
    "collapsed": true
   },
   "outputs": [],
   "source": []
  },
  {
   "cell_type": "code",
   "execution_count": null,
   "metadata": {
    "collapsed": true
   },
   "outputs": [],
   "source": []
  },
  {
   "cell_type": "code",
   "execution_count": null,
   "metadata": {
    "collapsed": true
   },
   "outputs": [],
   "source": []
  },
  {
   "cell_type": "code",
   "execution_count": null,
   "metadata": {
    "collapsed": true
   },
   "outputs": [],
   "source": []
  }
 ],
 "metadata": {
  "kernelspec": {
   "display_name": "Python 2",
   "language": "python",
   "name": "python2"
  }
 },
 "nbformat": 4,
 "nbformat_minor": 0
}
