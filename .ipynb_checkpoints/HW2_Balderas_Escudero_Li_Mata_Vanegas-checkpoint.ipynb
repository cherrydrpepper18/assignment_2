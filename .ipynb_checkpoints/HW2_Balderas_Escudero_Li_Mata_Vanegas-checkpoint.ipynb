{
 "cells": [
  {
   "cell_type": "code",
   "execution_count": 34,
   "metadata": {
    "collapsed": false
   },
   "outputs": [],
   "source": [
    "from pandas import Series, DataFrame\n",
    "import pandas as pd\n",
    "import re\n",
    "\n",
    "df = pd.read_csv('NYC_Restaurants.csv',dtype=unicode)"
   ]
  },
  {
   "cell_type": "code",
   "execution_count": 35,
   "metadata": {
    "collapsed": true
   },
   "outputs": [],
   "source": [
    "#Q1 Create a unique name for each restaurant"
   ]
  },
  {
   "cell_type": "code",
   "execution_count": 36,
   "metadata": {
    "collapsed": true
   },
   "outputs": [],
   "source": [
    "#approach: added a new column that concatenated the DBA, BUILDING, STREET,\\\n",
    "#columns with spaces in between"
   ]
  },
  {
   "cell_type": "code",
   "execution_count": 37,
   "metadata": {
    "collapsed": false
   },
   "outputs": [
    {
     "name": "stdout",
     "output_type": "stream",
     "text": [
      "0                    WENDY'S 469 FLATBUSH AVENUE 11225\n",
      "1                    WENDY'S 469 FLATBUSH AVENUE 11225\n",
      "2                    WENDY'S 469 FLATBUSH AVENUE 11225\n",
      "3                    WENDY'S 469 FLATBUSH AVENUE 11225\n",
      "4                    WENDY'S 469 FLATBUSH AVENUE 11225\n",
      "5               TOV KOSHER KITCHEN 97-22 63 ROAD 11374\n",
      "6               TOV KOSHER KITCHEN 97-22 63 ROAD 11374\n",
      "7               TOV KOSHER KITCHEN 97-22 63 ROAD 11374\n",
      "8               TOV KOSHER KITCHEN 97-22 63 ROAD 11374\n",
      "9    BRUNOS ON THE BOULEVARD 8825 ASTORIA BOULEVARD...\n",
      "Name: RESTAURANT, dtype: object\n"
     ]
    }
   ],
   "source": [
    "df['RESTAURANT']=df['DBA']+\" \"+df['BUILDING']+\" \"+df['STREET']+\" \"+df[\"ZIPCODE\"]\n",
    "print df['RESTAURANT'][:10]"
   ]
  },
  {
   "cell_type": "code",
   "execution_count": 38,
   "metadata": {
    "collapsed": true
   },
   "outputs": [],
   "source": [
    "#Q2 How many restaurants are included in the data?"
   ]
  },
  {
   "cell_type": "code",
   "execution_count": 39,
   "metadata": {
    "collapsed": true
   },
   "outputs": [],
   "source": [
    "#approach: created a unique restaurants dataframe and deleted all duplicates\\\n",
    "#in the RESTAURANT column\n",
    "#used the len function to find the number of records in the uniqueResturants\\\n",
    "#data frame"
   ]
  },
  {
   "cell_type": "code",
   "execution_count": 40,
   "metadata": {
    "collapsed": false
   },
   "outputs": [
    {
     "name": "stdout",
     "output_type": "stream",
     "text": [
      "Number of restaurants: 10114\n"
     ]
    }
   ],
   "source": [
    "uniqueRestaurants = df.drop_duplicates(subset='RESTAURANT')\n",
    "print \"Number of restaurants:\", len(uniqueRestaurants)"
   ]
  },
  {
   "cell_type": "code",
   "execution_count": 41,
   "metadata": {
    "collapsed": true
   },
   "outputs": [],
   "source": [
    "#Q3 How many chains are there?"
   ]
  },
  {
   "cell_type": "code",
   "execution_count": 42,
   "metadata": {
    "collapsed": true
   },
   "outputs": [],
   "source": [
    "#approach: created a data frame with a value count of the 'DBA' column\n",
    "#used the unique restaurants dataframe so that repeat offenders wouldn't be \\\n",
    "#counted twice\n",
    "#created a mask for when the value count was greater than or equal to 2\n",
    "#applied the mask to the list of unique restaurants\n",
    "#found the length (len) of the new dataframe"
   ]
  },
  {
   "cell_type": "code",
   "execution_count": 43,
   "metadata": {
    "collapsed": false
   },
   "outputs": [
    {
     "name": "stdout",
     "output_type": "stream",
     "text": [
      "Number of chains: 368\n"
     ]
    }
   ],
   "source": [
    "#create dataframe with the count of each restaurant of a chain\n",
    "numberOfEach = uniqueRestaurants['DBA'].value_counts()\n",
    "#create a mask to find resturants with 2 or more locations (chains)\n",
    "chainMask = (numberOfEach >= 2)\n",
    "chains = numberOfEach[chainMask]\n",
    "print \"Number of chains:\", len(chains)"
   ]
  },
  {
   "cell_type": "code",
   "execution_count": null,
   "metadata": {
    "collapsed": true
   },
   "outputs": [],
   "source": []
  }
 ],
 "metadata": {
  "kernelspec": {
   "display_name": "Python 2",
   "language": "python",
   "name": "python2"
  },
  "language_info": {
   "codemirror_mode": {
    "name": "ipython",
    "version": 2
   },
   "file_extension": ".py",
   "mimetype": "text/x-python",
   "name": "python",
   "nbconvert_exporter": "python",
   "pygments_lexer": "ipython2",
   "version": "2.7.11"
  }
 },
 "nbformat": 4,
 "nbformat_minor": 0
}
